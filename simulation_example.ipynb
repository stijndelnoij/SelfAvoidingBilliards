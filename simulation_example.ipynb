{
 "cells": [
  {
   "cell_type": "code",
   "execution_count": 1,
   "metadata": {},
   "outputs": [],
   "source": [
    "include(\"SelfAvoidingBilliards.jl\")\n",
    "using .SelfAvoidingBilliards\n",
    "using DataFrames"
   ]
  },
  {
   "cell_type": "code",
   "execution_count": 7,
   "metadata": {},
   "outputs": [
    {
     "data": {
      "text/plain": [
       "1-element Array{Obstacle{Float64},1}:\n",
       " Wall 3 {Float64}\n",
       "start point: [1.0, -2.4492935982947064e-16]\n",
       "end point: [-0.4999999999999998, 0.8660254037844387]\n",
       "normal vector: [-0.5000000000000002, -0.8660254037844386]"
      ]
     },
     "metadata": {},
     "output_type": "display_data"
    }
   ],
   "source": [
    "bd = billiard_polygon(3, 1., [0,0])\n",
    "w = filter(e -> e.id == 3, bd.obstacles)\n",
    "w"
   ]
  },
  {
   "cell_type": "code",
   "execution_count": 3,
   "metadata": {},
   "outputs": [
    {
     "name": "stdout",
     "output_type": "stream",
     "text": [
      "(wall_hit = 1, collision_point = 0.40084447522284106, moving_foward = false, wall_hit_upside = false)\n",
      "(wall_hit = 3, collision_point = 1.0, moving_foward = false, wall_hit_upside = true)\n",
      "(wall_hit = 2, collision_point = 1.0, moving_foward = false, wall_hit_upside = true)\n",
      "(wall_hit = 1, collision_point = 1.0, moving_foward = false, wall_hit_upside = true)\n",
      "(wall_hit = 3, collision_point = 1.0, moving_foward = false, wall_hit_upside = true)\n",
      "(wall_hit = 2, collision_point = 1.0, moving_foward = false, wall_hit_upside = true)\n",
      "(wall_hit = 1, collision_point = 1.0, moving_foward = false, wall_hit_upside = true)\n",
      "(wall_hit = 3, collision_point = 1.0, moving_foward = false, wall_hit_upside = true)\n",
      "(wall_hit = 2, collision_point = 1.0, moving_foward = false, wall_hit_upside = true)\n",
      "(wall_hit = 1, collision_point = 1.0, moving_foward = false, wall_hit_upside = true)\n",
      "(wall_hit = 3, collision_point = 1.0, moving_foward = false, wall_hit_upside = true)\n",
      "(wall_hit = 2, collision_point = 1.0, moving_foward = false, wall_hit_upside = true)\n",
      "(wall_hit = 1, collision_point = 1.0, moving_foward = false, wall_hit_upside = true)\n",
      "(wall_hit = 3, collision_point = 1.0, moving_foward = false, wall_hit_upside = true)\n",
      "(wall_hit = 2, collision_point = 1.0, moving_foward = false, wall_hit_upside = true)\n",
      "(wall_hit = 1, collision_point = 1.0, moving_foward = false, wall_hit_upside = true)\n",
      "(wall_hit = 3, collision_point = 1.0, moving_foward = false, wall_hit_upside = true)\n",
      "(wall_hit = 2, collision_point = 1.0, moving_foward = false, wall_hit_upside = true)\n",
      "(wall_hit = 1, collision_point = 1.0, moving_foward = false, wall_hit_upside = true)\n",
      "(wall_hit = 3, collision_point = 1.0, moving_foward = false, wall_hit_upside = true)\n",
      "(wall_hit = 2, collision_point = 1.0, moving_foward = false, wall_hit_upside = true)\n",
      "(wall_hit = 1, collision_point = 1.0, moving_foward = false, wall_hit_upside = true)\n",
      "Set(Any[4, 2, 3, 1])\n",
      "(wall_hit = 3, collision_point = 0.6427423709077016, moving_foward = false, wall_hit_upside = false)\n",
      "8\n"
     ]
    },
    {
     "ename": "BoundsError",
     "evalue": "BoundsError: attempt to access 0-element Vector{Obstacle{Float64}} at index [1]",
     "output_type": "error",
     "traceback": [
      "BoundsError: attempt to access 0-element Vector{Obstacle{Float64}} at index [1]\n",
      "\n",
      "Stacktrace:\n",
      " [1] getindex\n",
      "   @ .\\array.jl:861 [inlined]\n",
      " [2] first\n",
      "   @ .\\abstractarray.jl:398 [inlined]\n",
      " [3] search_next(searchparams::NamedTuple{(:wall_hit, :collision_point, :moving_foward, :wall_hit_upside), Tuple{Int64, Float64, Bool, Bool}}, collisions::DataFrame, bd::Billiard{Float64, Vector{Obstacle{Float64}}, Nothing})\n",
      "   @ Main.SelfAvoidingBilliards c:\\Users\\Stijn\\Code\\SelfAvoidingBilliards\\timeevolution\\boundary_reduction.jl:87\n",
      " [4] reduce_boundary!(bd_active::Billiard{Float64, Vector{Obstacle{Float64}}, Nothing}, collisions::DataFrame)\n",
      "   @ Main.SelfAvoidingBilliards c:\\Users\\Stijn\\Code\\SelfAvoidingBilliards\\timeevolution\\boundary_reduction.jl:116\n",
      " [5] top-level scope\n",
      "   @ c:\\Users\\Stijn\\Code\\SelfAvoidingBilliards\\simulation_example.ipynb:10"
     ]
    }
   ],
   "source": [
    "open(\"data/final_pos_3_2.txt\", \"w\")\n",
    "for j in 1:10\n",
    "    bd = billiard_polygon(3, 1., [0,0])\n",
    "    df = CollisionList\n",
    "    p = randominside(bd)\n",
    "    ending = SVector{2}\n",
    "    while true\n",
    "        start = p.pos\n",
    "        i, t, ending, vel = bounce!(p, bd, df)\n",
    "        reduce_boundary!(bd, df)\n",
    "        if length(bd) > 100 || t < 1e-4 || i == 0\n",
    "            break\n",
    "        end\n",
    "    end\n",
    "    open(\"data/final_pos_3_2.txt\", \"a\") do io\n",
    "        println(io, ending[1], \" \",  ending[2])\n",
    "    end\n",
    "    if j % 10000 == 0\n",
    "        println(j)\n",
    "    end\n",
    "end\n",
    "\n"
   ]
  },
  {
   "cell_type": "code",
   "execution_count": 9,
   "metadata": {},
   "outputs": [],
   "source": [
    "using LinearAlgebra\n",
    "\n",
    "bd_triangle = billiard_polygon(4, 1., [0.,0.])\n",
    "d_list = Float64[]\n",
    "for i in 1:1000000\n",
    "    p1 = randominside(bd_triangle)\n",
    "    p2 = randominside(bd_triangle)\n",
    "    d = norm(p1.pos - p2.pos)\n",
    "    push!(d_list, norm(p1.pos - p2.pos))\n",
    "end\n",
    "open(\"data/distance_square.txt\", \"w\") do io\n",
    "    for d in d_list\n",
    "        println(io, d)\n",
    "    end\n",
    "end\n"
   ]
  },
  {
   "cell_type": "code",
   "execution_count": 13,
   "metadata": {},
   "outputs": [
    {
     "data": {
      "text/plain": [
       "false"
      ]
     },
     "metadata": {},
     "output_type": "display_data"
    }
   ],
   "source": [
    "mutable struct person{S, N, T<:Array}\n",
    "    name::S\n",
    "    age::N\n",
    "    kinderen::T\n",
    "end\n",
    "\n",
    "function person(name::AbstractString, age::Integer, kinderen::Array)\n",
    "    S = typeof(name)\n",
    "    N = typeof(age)\n",
    "    T = typeof(kinderen)\n",
    "    return person{S,N,T}(name, age, kinderen)\n",
    "end\n",
    "p1 = person(\"Jan\", 24, [\"Lisa\", \"Jet\"])\n",
    "push!(p1.kinderen, \"Hendrik\")\n",
    "!(p1 isa person)"
   ]
  },
  {
   "cell_type": "code",
   "execution_count": 2,
   "metadata": {},
   "outputs": [
    {
     "name": "stdout",
     "output_type": "stream",
     "text": [
      "1 2 3\n",
      "2 3 1\n",
      "3 1 2\n"
     ]
    }
   ],
   "source": [
    "bd = billiard_polygon(3,1.,[0.,0.])\n",
    "for o in bd\n",
    "  println(o.id, \" \", o.next, \" \", prev_obst(o, bd))\n",
    "end\n"
   ]
  },
  {
   "cell_type": "code",
   "execution_count": null,
   "metadata": {},
   "outputs": [],
   "source": []
  }
 ],
 "metadata": {
  "kernelspec": {
   "display_name": "Julia 1.7.3",
   "language": "julia",
   "name": "julia-1.7"
  },
  "language_info": {
   "file_extension": ".jl",
   "mimetype": "application/julia",
   "name": "julia",
   "version": "1.7.3"
  },
  "orig_nbformat": 4
 },
 "nbformat": 4,
 "nbformat_minor": 2
}
