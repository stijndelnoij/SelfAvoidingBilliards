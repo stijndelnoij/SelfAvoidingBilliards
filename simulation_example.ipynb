{
 "cells": [
  {
   "cell_type": "code",
   "execution_count": 1,
   "metadata": {},
   "outputs": [],
   "source": [
    "include(\"SelfAvoidingBilliards.jl\")\n",
    "using .SelfAvoidingBilliards\n",
    "using DataFrames"
   ]
  },
  {
   "cell_type": "code",
   "execution_count": 7,
   "metadata": {},
   "outputs": [
    {
     "data": {
      "text/plain": [
       "1-element Array{Obstacle{Float64},1}:\n",
       " Wall 3 {Float64}\n",
       "start point: [1.0, -2.4492935982947064e-16]\n",
       "end point: [-0.4999999999999998, 0.8660254037844387]\n",
       "normal vector: [-0.5000000000000002, -0.8660254037844386]"
      ]
     },
     "metadata": {},
     "output_type": "display_data"
    }
   ],
   "source": [
    "bd = billiard_polygon(3, 1., [0,0])\n",
    "w = filter(e -> e.id == 3, bd.obstacles)\n",
    "w"
   ]
  },
  {
   "cell_type": "code",
   "execution_count": 2,
   "metadata": {},
   "outputs": [
    {
     "name": "stdout",
     "output_type": "stream",
     "text": [
      "Billiard{Float64} with 2 obstacles:\n",
      "  InfiniteWall{Float64}\n",
      "  Tail{Float64}\n"
     ]
    },
    {
     "name": "stdout",
     "output_type": "stream",
     "text": [
      "Billiard{Float64} with 2 obstacles:\n",
      "  Tail{Float64}\n",
      "  Tail{Float64}\n"
     ]
    },
    {
     "name": "stdout",
     "output_type": "stream",
     "text": [
      "Billiard{Float64} with 4 obstacles:\n",
      "  InfiniteWall{Float64}\n",
      "  InfiniteWall{Float64}\n",
      "  InfiniteWall{Float64}\n",
      "  Tail{Float64}\n",
      "Billiard{Float64} with 4 obstacles:\n",
      "  InfiniteWall{Float64}\n",
      "  InfiniteWall{Float64}\n",
      "  InfiniteWall{Float64}\n",
      "  Tail{Float64}\n",
      "Billiard{Float64} with 4 obstacles:\n",
      "  InfiniteWall{Float64}\n",
      "  InfiniteWall{Float64}\n",
      "  InfiniteWall{Float64}\n",
      "  Tail{Float64}\n"
     ]
    },
    {
     "ename": "BoundsError",
     "evalue": "BoundsError: attempt to access 0-element Array{Obstacle{Float64},1} at index [1]",
     "output_type": "error",
     "traceback": [
      "BoundsError: attempt to access 0-element Array{Obstacle{Float64},1} at index [1]\n",
      "\n",
      "Stacktrace:\n",
      " [1] getindex at ./array.jl:809 [inlined]\n",
      " [2] first at ./abstractarray.jl:323 [inlined]\n",
      " [3] search_next(::NamedTuple{(:wall_hit, :collision_point, :moving_foward, :wall_hit_upside),Tuple{Int64,Float64,Bool,Bool}}, ::DataFrame, ::Billiard{Float64,Array{Obstacle{Float64},1},Nothing}) at /home/steen/code/SelfAvoidingBilliards/timeevolution/boundary_reduction.jl:86\n",
      " [4] reduce_boundary!(::Billiard{Float64,Array{Obstacle{Float64},1},Nothing}, ::DataFrame) at /home/steen/code/SelfAvoidingBilliards/timeevolution/boundary_reduction.jl:115\n",
      " [5] top-level scope at /home/steen/code/SelfAvoidingBilliards/simulation_example.ipynb:10"
     ]
    }
   ],
   "source": [
    "open(\"data/final_pos_3_2.txt\", \"w\")\n",
    "for j in 1:10\n",
    "    bd = billiard_polygon(3, 1., [0,0])\n",
    "    df = CollisionList\n",
    "    p = randominside(bd)\n",
    "    ending = SVector{2}\n",
    "    while true\n",
    "        start = p.pos\n",
    "        i, t, ending, vel = bounce!(p, bd, df)\n",
    "        reduce_boundary!(bd, df)\n",
    "        println(bd)\n",
    "        if length(bd) > 100 || t < 1e-4 || i == 0\n",
    "            break\n",
    "        end\n",
    "    end\n",
    "    open(\"data/final_pos_3_2.txt\", \"a\") do io\n",
    "        println(io, ending[1], \" \",  ending[2])\n",
    "    end\n",
    "    if j % 10000 == 0\n",
    "        println(j)\n",
    "    end\n",
    "end\n",
    "\n"
   ]
  },
  {
   "cell_type": "code",
   "execution_count": 9,
   "metadata": {},
   "outputs": [],
   "source": [
    "using LinearAlgebra\n",
    "\n",
    "bd_triangle = billiard_polygon(4, 1., [0.,0.])\n",
    "d_list = Float64[]\n",
    "for i in 1:1000000\n",
    "    p1 = randominside(bd_triangle)\n",
    "    p2 = randominside(bd_triangle)\n",
    "    d = norm(p1.pos - p2.pos)\n",
    "    push!(d_list, norm(p1.pos - p2.pos))\n",
    "end\n",
    "open(\"data/distance_square.txt\", \"w\") do io\n",
    "    for d in d_list\n",
    "        println(io, d)\n",
    "    end\n",
    "end\n"
   ]
  },
  {
   "cell_type": "code",
   "execution_count": 13,
   "metadata": {},
   "outputs": [
    {
     "data": {
      "text/plain": [
       "false"
      ]
     },
     "metadata": {},
     "output_type": "display_data"
    }
   ],
   "source": [
    "mutable struct person{S, N, T<:Array}\n",
    "    name::S\n",
    "    age::N\n",
    "    kinderen::T\n",
    "end\n",
    "\n",
    "function person(name::AbstractString, age::Integer, kinderen::Array)\n",
    "    S = typeof(name)\n",
    "    N = typeof(age)\n",
    "    T = typeof(kinderen)\n",
    "    return person{S,N,T}(name, age, kinderen)\n",
    "end\n",
    "p1 = person(\"Jan\", 24, [\"Lisa\", \"Jet\"])\n",
    "push!(p1.kinderen, \"Hendrik\")\n",
    "!(p1 isa person)"
   ]
  },
  {
   "cell_type": "code",
   "execution_count": 22,
   "metadata": {},
   "outputs": [
    {
     "ename": "ErrorException",
     "evalue": "syntax: expected \"(\" in function definition",
     "output_type": "error",
     "traceback": [
      "syntax: expected \"(\" in function definition\n",
      "\n",
      "Stacktrace:\n",
      " [1] top-level scope at /home/steen/code/SelfAvoidingBilliards/simulation_example.ipynb:2"
     ]
    }
   ],
   "source": [
    "function CollisionList(){T} where {T}\n",
    "    return DataFrame(wall_hit_id = Int64[], incoming_id = Int64[], collision_point = T[],\n",
    "  moving_foward = Bool[], wall_hit_upside = Bool[], incoming_upside = Bool[])\n",
    "end\n"
   ]
  },
  {
   "cell_type": "code",
   "execution_count": null,
   "metadata": {},
   "outputs": [],
   "source": []
  }
 ],
 "metadata": {
  "kernelspec": {
   "display_name": "Julia 1.5.3",
   "language": "julia",
   "name": "julia-1.5"
  },
  "language_info": {
   "file_extension": ".jl",
   "mimetype": "application/julia",
   "name": "julia",
   "version": "1.5.3"
  },
  "orig_nbformat": 4
 },
 "nbformat": 4,
 "nbformat_minor": 2
}
