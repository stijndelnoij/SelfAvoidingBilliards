{
 "cells": [
  {
   "cell_type": "code",
   "execution_count": 1,
   "metadata": {},
   "outputs": [],
   "source": [
    "include(\"SelfAvoidingBilliards.jl\")\n",
    "using .SelfAvoidingBilliards\n",
    "using DataFrames"
   ]
  },
  {
   "cell_type": "code",
   "execution_count": 7,
   "metadata": {},
   "outputs": [],
   "source": [
    "open(\"data/final_pos_3_1.txt\", \"w\")\n",
    "for j in 1:1000000\n",
    "    bd = billiard_polygon(3, 1., [0,0])\n",
    "    df = DataFrame()\n",
    "    p = randominside(bd)\n",
    "    while true\n",
    "        start = p.pos\n",
    "        i, t, ending, vel = bounce!(p, bd, df)\n",
    "        if length(bd) > 100 || t < 1e-4 || i == 0\n",
    "            break\n",
    "        end\n",
    "    end\n",
    "    open(\"data/final_pos_3_1.txt\", \"a\") do io\n",
    "        println(io, ending[1], \" \",  ending[2])\n",
    "    end\n",
    "    if j % 10000 == 0\n",
    "        println(j)\n",
    "    end\n",
    "end\n",
    "\n"
   ]
  },
  {
   "cell_type": "code",
   "execution_count": 3,
   "metadata": {},
   "outputs": [
    {
     "data": {
      "text/plain": [
       "person{String, Int64, Vector{String}}(\"Jan\", 24, [\"Lisa\", \"Jet\", \"Hendrik\"])"
      ]
     },
     "metadata": {},
     "output_type": "display_data"
    }
   ],
   "source": [
    "mutable struct person{S, N, T<:Array}\n",
    "    name::S\n",
    "    age::N\n",
    "    kinderen::T\n",
    "end\n",
    "\n",
    "function person(name::AbstractString, age::Integer, kinderen::Array)\n",
    "    S = typeof(name)\n",
    "    N = typeof(age)\n",
    "    T = typeof(kinderen)\n",
    "    return person{S,N,T}(name, age, kinderen)\n",
    "end\n",
    "p1 = person(\"Jan\", 24, [\"Lisa\", \"Jet\"])\n",
    "push!(p1.kinderen, \"Hendrik\")\n",
    "p1"
   ]
  },
  {
   "cell_type": "code",
   "execution_count": 1,
   "metadata": {},
   "outputs": [
    {
     "ename": "BoundsError",
     "evalue": "BoundsError: attempt to access 6-element Array{Int64,1} at index [2, 4, 6]",
     "output_type": "error",
     "traceback": [
      "BoundsError: attempt to access 6-element Array{Int64,1} at index [2, 4, 6]\n",
      "\n",
      "Stacktrace:\n",
      " [1] getindex(::Array{Int64,1}, ::Int64, ::Int64, ::Int64) at ./array.jl:810\n",
      " [2] top-level scope at /home/steen/code/SelfAvoidingBilliards/testspace.ipynb:2"
     ]
    }
   ],
   "source": [
    "arr = [1,3,9,6,5,8]\n",
    "arr[2,4,6]"
   ]
  },
  {
   "cell_type": "code",
   "execution_count": null,
   "metadata": {},
   "outputs": [],
   "source": []
  }
 ],
 "metadata": {
  "kernelspec": {
   "display_name": "Julia 1.5.3",
   "language": "julia",
   "name": "julia-1.5"
  },
  "language_info": {
   "file_extension": ".jl",
   "mimetype": "application/julia",
   "name": "julia",
   "version": "1.5.3"
  },
  "orig_nbformat": 4
 },
 "nbformat": 4,
 "nbformat_minor": 2
}
